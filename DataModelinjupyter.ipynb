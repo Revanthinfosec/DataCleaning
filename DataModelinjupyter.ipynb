{
 "cells": [
  {
   "cell_type": "code",
   "execution_count": 1,
   "id": "4c6d68f4-ba1e-461a-a17a-cb1cc598dd54",
   "metadata": {
    "scrolled": true
   },
   "outputs": [
    {
     "name": "stdout",
     "output_type": "stream",
     "text": [
      "Collecting psycopg2\n",
      "  Downloading psycopg2-2.9.9.tar.gz (384 kB)\n",
      "\u001b[2K     \u001b[90m━━━━━━━━━━━━━━━━━━━━━━━━━━━━━━━━━━━━━━━\u001b[0m \u001b[32m384.9/384.9 kB\u001b[0m \u001b[31m3.4 MB/s\u001b[0m eta \u001b[36m0:00:00\u001b[0ma \u001b[36m0:00:01\u001b[0m\n",
      "\u001b[?25h  Preparing metadata (setup.py) ... \u001b[?25ldone\n",
      "\u001b[?25hBuilding wheels for collected packages: psycopg2\n",
      "  Building wheel for psycopg2 (setup.py) ... \u001b[?25ldone\n",
      "\u001b[?25h  Created wheel for psycopg2: filename=psycopg2-2.9.9-cp311-cp311-macosx_13_0_arm64.whl size=144160 sha256=c4bc09fc89350d3a31a44f2c3f8695fa4e71e9e3e7271f25072b80f53fe59ad9\n",
      "  Stored in directory: /Users/revanthchowdary/Library/Caches/pip/wheels/ab/34/b9/78ebef1b3220b4840ee482461e738566c3c9165d2b5c914f51\n",
      "Successfully built psycopg2\n",
      "Installing collected packages: psycopg2\n",
      "Successfully installed psycopg2-2.9.9\n",
      "Note: you may need to restart the kernel to use updated packages.\n"
     ]
    }
   ],
   "source": [
    "pip install psycopg2"
   ]
  },
  {
   "cell_type": "code",
   "execution_count": 36,
   "id": "8986fd05-ae6f-4002-ad11-971ea3f9d0ff",
   "metadata": {},
   "outputs": [
    {
     "name": "stdout",
     "output_type": "stream",
     "text": [
      "Requirement already satisfied: psycopg2 in /opt/homebrew/Cellar/jupyterlab/4.0.6/libexec/lib/python3.11/site-packages (2.9.9)\n",
      "Note: you may need to restart the kernel to use updated packages.\n"
     ]
    }
   ],
   "source": [
    "pip install psycopg2"
   ]
  },
  {
   "cell_type": "code",
   "execution_count": null,
   "id": "66bcd032-00ea-4899-8a40-4fdab05bb540",
   "metadata": {},
   "outputs": [],
   "source": []
  },
  {
   "cell_type": "code",
   "execution_count": 37,
   "id": "298b2a5b-bd0c-467c-9cf1-cc7c390b03ff",
   "metadata": {},
   "outputs": [],
   "source": [
    "import psycopg2"
   ]
  },
  {
   "cell_type": "code",
   "execution_count": 38,
   "id": "fb502e5a-cf63-49cb-afc3-8a8417761e7e",
   "metadata": {},
   "outputs": [],
   "source": [
    "try:\n",
    "    conn = psycopg2.connect(\"host=localhost dbname=postgres user=postgres password=Bhaggi#1\")\n",
    "except psycopg2.Error as e:\n",
    "    print(\"Error: go check connect\")\n",
    "    print(e)"
   ]
  },
  {
   "cell_type": "code",
   "execution_count": 39,
   "id": "6c5e39d1-9018-4272-a153-36756e4e83e2",
   "metadata": {},
   "outputs": [],
   "source": [
    "# thus we do make a cursor to work with this\n",
    "\n",
    "try:\n",
    "    cur = conn.cursor()\n",
    "except psycopg2.Error as e:\n",
    "    print(\"Error: we can't get the cursor to te database\")\n",
    "    print(e)\n",
    "\n"
   ]
  },
  {
   "cell_type": "code",
   "execution_count": 40,
   "id": "15905838-f714-48aa-9257-c198fd63911d",
   "metadata": {},
   "outputs": [],
   "source": [
    "conn.set_session(autocommit=True) # this will do commitment is going to be true. So, we do give the commit aS TRUE as we need to make it work"
   ]
  },
  {
   "cell_type": "code",
   "execution_count": 41,
   "id": "7f1764a7-5572-4c5e-8fac-c74c324f3440",
   "metadata": {},
   "outputs": [
    {
     "name": "stdout",
     "output_type": "stream",
     "text": [
      "database \"revanthpasam\" already exists\n",
      "\n"
     ]
    }
   ],
   "source": [
    "try:\n",
    "    cur.execute(\"create database RevanthPasam\")  #making/creating the database\n",
    "except psycopg2.Error as e:\n",
    "    print(e)\n",
    "    "
   ]
  },
  {
   "cell_type": "code",
   "execution_count": 42,
   "id": "00e5d661-77dc-4e0f-80f0-30b56fa8b856",
   "metadata": {},
   "outputs": [],
   "source": [
    "try:\n",
    "    conn.close()\n",
    "except psycopg2.Error as e:\n",
    "    print(e)\n",
    "\n",
    "try:\n",
    "    conn = psycopg2.connect(\"host=localhost dbname=revanthpasam user=postgres password=Bhaggi#\")\n",
    "except psycopg2.Error as e:\n",
    "    print(\"Error: We could not make it work as it cannot connect to database\")\n",
    "    print(e)\n",
    "\n",
    "try:\n",
    "    cur = conn.cursor()\n",
    "except psycopg2.Error as e:\n",
    "    print(\"Error: Cursor is not able to get into the Database\")\n",
    "    print(e)\n",
    "\n",
    "conn.set_session(autocommit=True)\n"
   ]
  },
  {
   "cell_type": "code",
   "execution_count": 43,
   "id": "4c9d4854-d831-4aee-a603-01b8d544bc75",
   "metadata": {},
   "outputs": [],
   "source": [
    "try:\n",
    "    cur.execute(\"CREATE TABLE IF NOT EXISTS students (student_id int, name varchar, \\\n",
    "    age int, gender varchar, subject varchar, marks int);\")\n",
    "except psycopg2.Error as e:\n",
    "    print(\"Error: Problem with creating the table\")\n",
    "    print(e)\n",
    "    "
   ]
  },
  {
   "cell_type": "code",
   "execution_count": 44,
   "id": "843aa07d-2bc6-4819-a8c3-e4a4e45a8d8c",
   "metadata": {},
   "outputs": [],
   "source": [
    "try:\n",
    "    cur.execute(\"INSERT INTO students (student_id, name, age, gender, subject, marks) VALUES (%s, %s, %s, %s, %s, %s)\",\n",
    "                (1, \"Revanth\", 25, \"Male\", \"DataEngineering\", 95))\n",
    "except psycopg2.Error as e:\n",
    "    print(\"Error: Inserting problem into rows\")\n",
    "    print(e)\n",
    "    \n",
    "try:\n",
    "    cur.execute(\"INSERT INTO students (student_id, name, age, gender, subject, marks) VALUES (%s, %s, %s, %s, %s, %s)\",\n",
    "                (2, \"Rithvik\", 23, \"Male\", \"DataAnalyst\", 96))\n",
    "except psycopg2.Error as e:\n",
    "    print(\"Error: Problem with inserting into rows\")\n",
    "\n",
    "except psycopg2.Error as e:\n",
    "    print(\"Error: Problem with inserting into rows\")\n",
    "    print(e)\n",
    "                \n"
   ]
  },
  {
   "cell_type": "code",
   "execution_count": 45,
   "id": "de4968fe-d0bf-4e36-b15b-cbeba262bdfe",
   "metadata": {
    "scrolled": true
   },
   "outputs": [
    {
     "name": "stdout",
     "output_type": "stream",
     "text": [
      "(1, 'Revanth', 25, 'Male', 'DataEngineering', 95)\n",
      "(1, 'Revanth', 25, 'Male', 'DataEngineering', 95)\n",
      "(2, 'Rithvik', 23, 'Male', 'DataAnalyst', 96)\n",
      "(1, 'Revanth', 25, 'Male', 'DataEngineering', 95)\n",
      "(2, 'Rithvik', 23, 'Male', 'DataAnalyst', 96)\n"
     ]
    }
   ],
   "source": [
    "try:\n",
    "    cur.execute(\"SELECT * FROM students;\")\n",
    "except psycopg2.ERROR as e:\n",
    "    print(\"Error: select * check\")\n",
    "    print(e)\n",
    "\n",
    "row = cur.fetchone()\n",
    "while row:\n",
    "    print(row)\n",
    "    row = cur.fetchone()\n",
    "    "
   ]
  },
  {
   "cell_type": "code",
   "execution_count": 46,
   "id": "75365ce7-b02d-419b-b9dc-aa86e16dc473",
   "metadata": {},
   "outputs": [],
   "source": [
    "cur.close()\n",
    "conn.close()"
   ]
  },
  {
   "cell_type": "code",
   "execution_count": null,
   "id": "2c95c716-4819-4724-8067-63f365d94a0c",
   "metadata": {},
   "outputs": [],
   "source": []
  }
 ],
 "metadata": {
  "kernelspec": {
   "display_name": "Python 3 (ipykernel)",
   "language": "python",
   "name": "python3"
  },
  "language_info": {
   "codemirror_mode": {
    "name": "ipython",
    "version": 3
   },
   "file_extension": ".py",
   "mimetype": "text/x-python",
   "name": "python",
   "nbconvert_exporter": "python",
   "pygments_lexer": "ipython3",
   "version": "3.11.5"
  }
 },
 "nbformat": 4,
 "nbformat_minor": 5
}
